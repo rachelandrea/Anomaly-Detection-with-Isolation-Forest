{
  "nbformat": 4,
  "nbformat_minor": 0,
  "metadata": {
    "colab": {
      "provenance": []
    },
    "kernelspec": {
      "name": "python3",
      "display_name": "Python 3"
    },
    "language_info": {
      "name": "python"
    }
  },
  "cells": [
    {
      "cell_type": "code",
      "execution_count": 144,
      "metadata": {
        "id": "576bi3_wU6qj"
      },
      "outputs": [],
      "source": [
        "import numpy as np\n",
        "import pandas as pd"
      ]
    },
    {
      "cell_type": "code",
      "source": [
        "df=pd.read_csv(\"ECommerce_consumer behaviour.csv\")"
      ],
      "metadata": {
        "id": "6__4uJScVY_C"
      },
      "execution_count": 145,
      "outputs": []
    },
    {
      "cell_type": "markdown",
      "source": [
        "##Data Understanding"
      ],
      "metadata": {
        "id": "Y-vDHIF1ugSi"
      }
    },
    {
      "cell_type": "code",
      "source": [
        "df.head()"
      ],
      "metadata": {
        "colab": {
          "base_uri": "https://localhost:8080/",
          "height": 206
        },
        "id": "cH9JywkTVeMV",
        "outputId": "716eb604-8169-4c7f-e5d5-532f9e2e3ce4"
      },
      "execution_count": 146,
      "outputs": [
        {
          "output_type": "execute_result",
          "data": {
            "text/plain": [
              "   order_id  user_id  order_number  order_dow  order_hour_of_day  \\\n",
              "0   2425083    49125             1          2                 18   \n",
              "1   2425083    49125             1          2                 18   \n",
              "2   2425083    49125             1          2                 18   \n",
              "3   2425083    49125             1          2                 18   \n",
              "4   2425083    49125             1          2                 18   \n",
              "\n",
              "   days_since_prior_order  product_id  add_to_cart_order  reordered  \\\n",
              "0                     NaN          17                  1          0   \n",
              "1                     NaN          91                  2          0   \n",
              "2                     NaN          36                  3          0   \n",
              "3                     NaN          83                  4          0   \n",
              "4                     NaN          83                  5          0   \n",
              "\n",
              "   department_id  department        product_name  \n",
              "0             13      pantry  baking ingredients  \n",
              "1             16  dairy eggs     soy lactosefree  \n",
              "2             16  dairy eggs              butter  \n",
              "3              4     produce    fresh vegetables  \n",
              "4              4     produce    fresh vegetables  "
            ],
            "text/html": [
              "\n",
              "  <div id=\"df-730e9d3c-a7b4-41d8-b80f-a276ea690347\" class=\"colab-df-container\">\n",
              "    <div>\n",
              "<style scoped>\n",
              "    .dataframe tbody tr th:only-of-type {\n",
              "        vertical-align: middle;\n",
              "    }\n",
              "\n",
              "    .dataframe tbody tr th {\n",
              "        vertical-align: top;\n",
              "    }\n",
              "\n",
              "    .dataframe thead th {\n",
              "        text-align: right;\n",
              "    }\n",
              "</style>\n",
              "<table border=\"1\" class=\"dataframe\">\n",
              "  <thead>\n",
              "    <tr style=\"text-align: right;\">\n",
              "      <th></th>\n",
              "      <th>order_id</th>\n",
              "      <th>user_id</th>\n",
              "      <th>order_number</th>\n",
              "      <th>order_dow</th>\n",
              "      <th>order_hour_of_day</th>\n",
              "      <th>days_since_prior_order</th>\n",
              "      <th>product_id</th>\n",
              "      <th>add_to_cart_order</th>\n",
              "      <th>reordered</th>\n",
              "      <th>department_id</th>\n",
              "      <th>department</th>\n",
              "      <th>product_name</th>\n",
              "    </tr>\n",
              "  </thead>\n",
              "  <tbody>\n",
              "    <tr>\n",
              "      <th>0</th>\n",
              "      <td>2425083</td>\n",
              "      <td>49125</td>\n",
              "      <td>1</td>\n",
              "      <td>2</td>\n",
              "      <td>18</td>\n",
              "      <td>NaN</td>\n",
              "      <td>17</td>\n",
              "      <td>1</td>\n",
              "      <td>0</td>\n",
              "      <td>13</td>\n",
              "      <td>pantry</td>\n",
              "      <td>baking ingredients</td>\n",
              "    </tr>\n",
              "    <tr>\n",
              "      <th>1</th>\n",
              "      <td>2425083</td>\n",
              "      <td>49125</td>\n",
              "      <td>1</td>\n",
              "      <td>2</td>\n",
              "      <td>18</td>\n",
              "      <td>NaN</td>\n",
              "      <td>91</td>\n",
              "      <td>2</td>\n",
              "      <td>0</td>\n",
              "      <td>16</td>\n",
              "      <td>dairy eggs</td>\n",
              "      <td>soy lactosefree</td>\n",
              "    </tr>\n",
              "    <tr>\n",
              "      <th>2</th>\n",
              "      <td>2425083</td>\n",
              "      <td>49125</td>\n",
              "      <td>1</td>\n",
              "      <td>2</td>\n",
              "      <td>18</td>\n",
              "      <td>NaN</td>\n",
              "      <td>36</td>\n",
              "      <td>3</td>\n",
              "      <td>0</td>\n",
              "      <td>16</td>\n",
              "      <td>dairy eggs</td>\n",
              "      <td>butter</td>\n",
              "    </tr>\n",
              "    <tr>\n",
              "      <th>3</th>\n",
              "      <td>2425083</td>\n",
              "      <td>49125</td>\n",
              "      <td>1</td>\n",
              "      <td>2</td>\n",
              "      <td>18</td>\n",
              "      <td>NaN</td>\n",
              "      <td>83</td>\n",
              "      <td>4</td>\n",
              "      <td>0</td>\n",
              "      <td>4</td>\n",
              "      <td>produce</td>\n",
              "      <td>fresh vegetables</td>\n",
              "    </tr>\n",
              "    <tr>\n",
              "      <th>4</th>\n",
              "      <td>2425083</td>\n",
              "      <td>49125</td>\n",
              "      <td>1</td>\n",
              "      <td>2</td>\n",
              "      <td>18</td>\n",
              "      <td>NaN</td>\n",
              "      <td>83</td>\n",
              "      <td>5</td>\n",
              "      <td>0</td>\n",
              "      <td>4</td>\n",
              "      <td>produce</td>\n",
              "      <td>fresh vegetables</td>\n",
              "    </tr>\n",
              "  </tbody>\n",
              "</table>\n",
              "</div>\n",
              "    <div class=\"colab-df-buttons\">\n",
              "\n",
              "  <div class=\"colab-df-container\">\n",
              "    <button class=\"colab-df-convert\" onclick=\"convertToInteractive('df-730e9d3c-a7b4-41d8-b80f-a276ea690347')\"\n",
              "            title=\"Convert this dataframe to an interactive table.\"\n",
              "            style=\"display:none;\">\n",
              "\n",
              "  <svg xmlns=\"http://www.w3.org/2000/svg\" height=\"24px\" viewBox=\"0 -960 960 960\">\n",
              "    <path d=\"M120-120v-720h720v720H120Zm60-500h600v-160H180v160Zm220 220h160v-160H400v160Zm0 220h160v-160H400v160ZM180-400h160v-160H180v160Zm440 0h160v-160H620v160ZM180-180h160v-160H180v160Zm440 0h160v-160H620v160Z\"/>\n",
              "  </svg>\n",
              "    </button>\n",
              "\n",
              "  <style>\n",
              "    .colab-df-container {\n",
              "      display:flex;\n",
              "      gap: 12px;\n",
              "    }\n",
              "\n",
              "    .colab-df-convert {\n",
              "      background-color: #E8F0FE;\n",
              "      border: none;\n",
              "      border-radius: 50%;\n",
              "      cursor: pointer;\n",
              "      display: none;\n",
              "      fill: #1967D2;\n",
              "      height: 32px;\n",
              "      padding: 0 0 0 0;\n",
              "      width: 32px;\n",
              "    }\n",
              "\n",
              "    .colab-df-convert:hover {\n",
              "      background-color: #E2EBFA;\n",
              "      box-shadow: 0px 1px 2px rgba(60, 64, 67, 0.3), 0px 1px 3px 1px rgba(60, 64, 67, 0.15);\n",
              "      fill: #174EA6;\n",
              "    }\n",
              "\n",
              "    .colab-df-buttons div {\n",
              "      margin-bottom: 4px;\n",
              "    }\n",
              "\n",
              "    [theme=dark] .colab-df-convert {\n",
              "      background-color: #3B4455;\n",
              "      fill: #D2E3FC;\n",
              "    }\n",
              "\n",
              "    [theme=dark] .colab-df-convert:hover {\n",
              "      background-color: #434B5C;\n",
              "      box-shadow: 0px 1px 3px 1px rgba(0, 0, 0, 0.15);\n",
              "      filter: drop-shadow(0px 1px 2px rgba(0, 0, 0, 0.3));\n",
              "      fill: #FFFFFF;\n",
              "    }\n",
              "  </style>\n",
              "\n",
              "    <script>\n",
              "      const buttonEl =\n",
              "        document.querySelector('#df-730e9d3c-a7b4-41d8-b80f-a276ea690347 button.colab-df-convert');\n",
              "      buttonEl.style.display =\n",
              "        google.colab.kernel.accessAllowed ? 'block' : 'none';\n",
              "\n",
              "      async function convertToInteractive(key) {\n",
              "        const element = document.querySelector('#df-730e9d3c-a7b4-41d8-b80f-a276ea690347');\n",
              "        const dataTable =\n",
              "          await google.colab.kernel.invokeFunction('convertToInteractive',\n",
              "                                                    [key], {});\n",
              "        if (!dataTable) return;\n",
              "\n",
              "        const docLinkHtml = 'Like what you see? Visit the ' +\n",
              "          '<a target=\"_blank\" href=https://colab.research.google.com/notebooks/data_table.ipynb>data table notebook</a>'\n",
              "          + ' to learn more about interactive tables.';\n",
              "        element.innerHTML = '';\n",
              "        dataTable['output_type'] = 'display_data';\n",
              "        await google.colab.output.renderOutput(dataTable, element);\n",
              "        const docLink = document.createElement('div');\n",
              "        docLink.innerHTML = docLinkHtml;\n",
              "        element.appendChild(docLink);\n",
              "      }\n",
              "    </script>\n",
              "  </div>\n",
              "\n",
              "\n",
              "<div id=\"df-f79e21d4-d196-4a26-894a-7daf79066e6e\">\n",
              "  <button class=\"colab-df-quickchart\" onclick=\"quickchart('df-f79e21d4-d196-4a26-894a-7daf79066e6e')\"\n",
              "            title=\"Suggest charts\"\n",
              "            style=\"display:none;\">\n",
              "\n",
              "<svg xmlns=\"http://www.w3.org/2000/svg\" height=\"24px\"viewBox=\"0 0 24 24\"\n",
              "     width=\"24px\">\n",
              "    <g>\n",
              "        <path d=\"M19 3H5c-1.1 0-2 .9-2 2v14c0 1.1.9 2 2 2h14c1.1 0 2-.9 2-2V5c0-1.1-.9-2-2-2zM9 17H7v-7h2v7zm4 0h-2V7h2v10zm4 0h-2v-4h2v4z\"/>\n",
              "    </g>\n",
              "</svg>\n",
              "  </button>\n",
              "\n",
              "<style>\n",
              "  .colab-df-quickchart {\n",
              "      --bg-color: #E8F0FE;\n",
              "      --fill-color: #1967D2;\n",
              "      --hover-bg-color: #E2EBFA;\n",
              "      --hover-fill-color: #174EA6;\n",
              "      --disabled-fill-color: #AAA;\n",
              "      --disabled-bg-color: #DDD;\n",
              "  }\n",
              "\n",
              "  [theme=dark] .colab-df-quickchart {\n",
              "      --bg-color: #3B4455;\n",
              "      --fill-color: #D2E3FC;\n",
              "      --hover-bg-color: #434B5C;\n",
              "      --hover-fill-color: #FFFFFF;\n",
              "      --disabled-bg-color: #3B4455;\n",
              "      --disabled-fill-color: #666;\n",
              "  }\n",
              "\n",
              "  .colab-df-quickchart {\n",
              "    background-color: var(--bg-color);\n",
              "    border: none;\n",
              "    border-radius: 50%;\n",
              "    cursor: pointer;\n",
              "    display: none;\n",
              "    fill: var(--fill-color);\n",
              "    height: 32px;\n",
              "    padding: 0;\n",
              "    width: 32px;\n",
              "  }\n",
              "\n",
              "  .colab-df-quickchart:hover {\n",
              "    background-color: var(--hover-bg-color);\n",
              "    box-shadow: 0 1px 2px rgba(60, 64, 67, 0.3), 0 1px 3px 1px rgba(60, 64, 67, 0.15);\n",
              "    fill: var(--button-hover-fill-color);\n",
              "  }\n",
              "\n",
              "  .colab-df-quickchart-complete:disabled,\n",
              "  .colab-df-quickchart-complete:disabled:hover {\n",
              "    background-color: var(--disabled-bg-color);\n",
              "    fill: var(--disabled-fill-color);\n",
              "    box-shadow: none;\n",
              "  }\n",
              "\n",
              "  .colab-df-spinner {\n",
              "    border: 2px solid var(--fill-color);\n",
              "    border-color: transparent;\n",
              "    border-bottom-color: var(--fill-color);\n",
              "    animation:\n",
              "      spin 1s steps(1) infinite;\n",
              "  }\n",
              "\n",
              "  @keyframes spin {\n",
              "    0% {\n",
              "      border-color: transparent;\n",
              "      border-bottom-color: var(--fill-color);\n",
              "      border-left-color: var(--fill-color);\n",
              "    }\n",
              "    20% {\n",
              "      border-color: transparent;\n",
              "      border-left-color: var(--fill-color);\n",
              "      border-top-color: var(--fill-color);\n",
              "    }\n",
              "    30% {\n",
              "      border-color: transparent;\n",
              "      border-left-color: var(--fill-color);\n",
              "      border-top-color: var(--fill-color);\n",
              "      border-right-color: var(--fill-color);\n",
              "    }\n",
              "    40% {\n",
              "      border-color: transparent;\n",
              "      border-right-color: var(--fill-color);\n",
              "      border-top-color: var(--fill-color);\n",
              "    }\n",
              "    60% {\n",
              "      border-color: transparent;\n",
              "      border-right-color: var(--fill-color);\n",
              "    }\n",
              "    80% {\n",
              "      border-color: transparent;\n",
              "      border-right-color: var(--fill-color);\n",
              "      border-bottom-color: var(--fill-color);\n",
              "    }\n",
              "    90% {\n",
              "      border-color: transparent;\n",
              "      border-bottom-color: var(--fill-color);\n",
              "    }\n",
              "  }\n",
              "</style>\n",
              "\n",
              "  <script>\n",
              "    async function quickchart(key) {\n",
              "      const quickchartButtonEl =\n",
              "        document.querySelector('#' + key + ' button');\n",
              "      quickchartButtonEl.disabled = true;  // To prevent multiple clicks.\n",
              "      quickchartButtonEl.classList.add('colab-df-spinner');\n",
              "      try {\n",
              "        const charts = await google.colab.kernel.invokeFunction(\n",
              "            'suggestCharts', [key], {});\n",
              "      } catch (error) {\n",
              "        console.error('Error during call to suggestCharts:', error);\n",
              "      }\n",
              "      quickchartButtonEl.classList.remove('colab-df-spinner');\n",
              "      quickchartButtonEl.classList.add('colab-df-quickchart-complete');\n",
              "    }\n",
              "    (() => {\n",
              "      let quickchartButtonEl =\n",
              "        document.querySelector('#df-f79e21d4-d196-4a26-894a-7daf79066e6e button');\n",
              "      quickchartButtonEl.style.display =\n",
              "        google.colab.kernel.accessAllowed ? 'block' : 'none';\n",
              "    })();\n",
              "  </script>\n",
              "</div>\n",
              "    </div>\n",
              "  </div>\n"
            ]
          },
          "metadata": {},
          "execution_count": 146
        }
      ]
    },
    {
      "cell_type": "code",
      "source": [
        "df.shape"
      ],
      "metadata": {
        "colab": {
          "base_uri": "https://localhost:8080/"
        },
        "id": "VeyVv2wEVfoT",
        "outputId": "37d75f50-2fa6-43c9-bc79-9fc0124c2186"
      },
      "execution_count": 147,
      "outputs": [
        {
          "output_type": "execute_result",
          "data": {
            "text/plain": [
              "(2019501, 12)"
            ]
          },
          "metadata": {},
          "execution_count": 147
        }
      ]
    },
    {
      "cell_type": "code",
      "source": [
        "df.info()"
      ],
      "metadata": {
        "colab": {
          "base_uri": "https://localhost:8080/"
        },
        "id": "MaMRjMmbVgVU",
        "outputId": "c11a971a-80c8-46b1-ac8c-2b0abcbaa39e"
      },
      "execution_count": 148,
      "outputs": [
        {
          "output_type": "stream",
          "name": "stdout",
          "text": [
            "<class 'pandas.core.frame.DataFrame'>\n",
            "RangeIndex: 2019501 entries, 0 to 2019500\n",
            "Data columns (total 12 columns):\n",
            " #   Column                  Dtype  \n",
            "---  ------                  -----  \n",
            " 0   order_id                int64  \n",
            " 1   user_id                 int64  \n",
            " 2   order_number            int64  \n",
            " 3   order_dow               int64  \n",
            " 4   order_hour_of_day       int64  \n",
            " 5   days_since_prior_order  float64\n",
            " 6   product_id              int64  \n",
            " 7   add_to_cart_order       int64  \n",
            " 8   reordered               int64  \n",
            " 9   department_id           int64  \n",
            " 10  department              object \n",
            " 11  product_name            object \n",
            "dtypes: float64(1), int64(9), object(2)\n",
            "memory usage: 184.9+ MB\n"
          ]
        }
      ]
    },
    {
      "cell_type": "markdown",
      "source": [
        "##Feature Engineering"
      ],
      "metadata": {
        "id": "LtRDi4y4uk_R"
      }
    },
    {
      "cell_type": "markdown",
      "source": [
        "####Fill in missing value"
      ],
      "metadata": {
        "id": "FGz4eg_iuotZ"
      }
    },
    {
      "cell_type": "code",
      "source": [
        "df['order_number'].value_counts()"
      ],
      "metadata": {
        "colab": {
          "base_uri": "https://localhost:8080/"
        },
        "id": "YNAhitakc_7n",
        "outputId": "9094284a-f403-4178-a149-7cfe6ca28193"
      },
      "execution_count": 149,
      "outputs": [
        {
          "output_type": "execute_result",
          "data": {
            "text/plain": [
              "1      124342\n",
              "2      122397\n",
              "3      120627\n",
              "4      118573\n",
              "5      105482\n",
              "        ...  \n",
              "97        834\n",
              "91        826\n",
              "95        741\n",
              "99        716\n",
              "100       493\n",
              "Name: order_number, Length: 100, dtype: int64"
            ]
          },
          "metadata": {},
          "execution_count": 149
        }
      ]
    },
    {
      "cell_type": "code",
      "source": [
        "df['order_number'] = df['order_number'].fillna(df['order_number'].mean())"
      ],
      "metadata": {
        "id": "ibI6Anl_dyIH"
      },
      "execution_count": 150,
      "outputs": []
    },
    {
      "cell_type": "code",
      "source": [
        "df['order_number'].isnull().values.sum()"
      ],
      "metadata": {
        "colab": {
          "base_uri": "https://localhost:8080/"
        },
        "id": "Oc3JJwpTeDZV",
        "outputId": "9ddae51d-f957-4ee6-d971-9540a5a2d85e"
      },
      "execution_count": 151,
      "outputs": [
        {
          "output_type": "execute_result",
          "data": {
            "text/plain": [
              "0"
            ]
          },
          "metadata": {},
          "execution_count": 151
        }
      ]
    },
    {
      "cell_type": "code",
      "source": [
        "df['order_dow'] = df['order_dow'].fillna(df['order_dow'].mean())"
      ],
      "metadata": {
        "id": "E3-NusHieJI2"
      },
      "execution_count": 152,
      "outputs": []
    },
    {
      "cell_type": "code",
      "source": [
        "df['order_dow'].isnull().values.sum()"
      ],
      "metadata": {
        "colab": {
          "base_uri": "https://localhost:8080/"
        },
        "id": "H6t_-mB1eRaY",
        "outputId": "656ea7eb-203a-4611-c231-674d9f4a9cf5"
      },
      "execution_count": 153,
      "outputs": [
        {
          "output_type": "execute_result",
          "data": {
            "text/plain": [
              "0"
            ]
          },
          "metadata": {},
          "execution_count": 153
        }
      ]
    },
    {
      "cell_type": "code",
      "source": [
        "df['order_hour_of_day'] = df['order_hour_of_day'].fillna(df['order_hour_of_day'].mean())"
      ],
      "metadata": {
        "id": "oM-VZtYUeTPE"
      },
      "execution_count": 154,
      "outputs": []
    },
    {
      "cell_type": "code",
      "source": [
        "df['order_hour_of_day'].isnull().values.sum()"
      ],
      "metadata": {
        "colab": {
          "base_uri": "https://localhost:8080/"
        },
        "id": "myU3JjaeebhA",
        "outputId": "e5550082-5fb8-412d-d496-4cc44333bb4a"
      },
      "execution_count": 155,
      "outputs": [
        {
          "output_type": "execute_result",
          "data": {
            "text/plain": [
              "0"
            ]
          },
          "metadata": {},
          "execution_count": 155
        }
      ]
    },
    {
      "cell_type": "code",
      "source": [
        "df['days_since_prior_order'] = df['days_since_prior_order'].fillna(df['days_since_prior_order'].mean())"
      ],
      "metadata": {
        "id": "AMJW2qMfelbl"
      },
      "execution_count": 156,
      "outputs": []
    },
    {
      "cell_type": "code",
      "source": [
        "df['days_since_prior_order'].isnull().values.sum()"
      ],
      "metadata": {
        "colab": {
          "base_uri": "https://localhost:8080/"
        },
        "id": "Qs_cAHkVerSf",
        "outputId": "2121d2b2-911b-4a71-b3e2-e2067cca3759"
      },
      "execution_count": 157,
      "outputs": [
        {
          "output_type": "execute_result",
          "data": {
            "text/plain": [
              "0"
            ]
          },
          "metadata": {},
          "execution_count": 157
        }
      ]
    },
    {
      "cell_type": "code",
      "source": [
        "df.info()"
      ],
      "metadata": {
        "colab": {
          "base_uri": "https://localhost:8080/"
        },
        "id": "P4y-K6erfmDv",
        "outputId": "5980b520-e47f-4e85-fe76-2bfa0b520455"
      },
      "execution_count": 158,
      "outputs": [
        {
          "output_type": "stream",
          "name": "stdout",
          "text": [
            "<class 'pandas.core.frame.DataFrame'>\n",
            "RangeIndex: 2019501 entries, 0 to 2019500\n",
            "Data columns (total 12 columns):\n",
            " #   Column                  Dtype  \n",
            "---  ------                  -----  \n",
            " 0   order_id                int64  \n",
            " 1   user_id                 int64  \n",
            " 2   order_number            int64  \n",
            " 3   order_dow               int64  \n",
            " 4   order_hour_of_day       int64  \n",
            " 5   days_since_prior_order  float64\n",
            " 6   product_id              int64  \n",
            " 7   add_to_cart_order       int64  \n",
            " 8   reordered               int64  \n",
            " 9   department_id           int64  \n",
            " 10  department              object \n",
            " 11  product_name            object \n",
            "dtypes: float64(1), int64(9), object(2)\n",
            "memory usage: 184.9+ MB\n"
          ]
        }
      ]
    },
    {
      "cell_type": "code",
      "source": [
        "df['product_id'] = df['product_id'].fillna(df['product_id'].mean())"
      ],
      "metadata": {
        "id": "CeZXX0KAevx5"
      },
      "execution_count": 159,
      "outputs": []
    },
    {
      "cell_type": "code",
      "source": [
        "df['add_to_cart_order'] = df['add_to_cart_order'].fillna(df['add_to_cart_order'].mean())"
      ],
      "metadata": {
        "id": "M4nF1XPEfyO5"
      },
      "execution_count": 160,
      "outputs": []
    },
    {
      "cell_type": "code",
      "source": [
        "df['reordered'] = df['reordered'].fillna(df['reordered'].mean())"
      ],
      "metadata": {
        "id": "V4jvFppNfyfw"
      },
      "execution_count": 161,
      "outputs": []
    },
    {
      "cell_type": "code",
      "source": [
        "df['department_id'] = df['department_id'].fillna(df['department_id'].mean())"
      ],
      "metadata": {
        "id": "RK-VkhsGf0em"
      },
      "execution_count": 162,
      "outputs": []
    },
    {
      "cell_type": "code",
      "source": [
        "df['department'].value_counts()"
      ],
      "metadata": {
        "colab": {
          "base_uri": "https://localhost:8080/"
        },
        "id": "QUdnDdqyfu0m",
        "outputId": "2a5d3072-7daa-4f5e-ac55-788ff594ed10"
      },
      "execution_count": 163,
      "outputs": [
        {
          "output_type": "execute_result",
          "data": {
            "text/plain": [
              "produce            588996\n",
              "dairy eggs         336915\n",
              "snacks             180692\n",
              "beverages          168126\n",
              "frozen             139536\n",
              "pantry             116262\n",
              "bakery              72983\n",
              "canned goods        66053\n",
              "deli                65176\n",
              "dry goods pasta     54054\n",
              "household           46446\n",
              "breakfast           44605\n",
              "meat seafood        44271\n",
              "personal care       28134\n",
              "babies              25940\n",
              "international       16738\n",
              "alcohol              9439\n",
              "pets                 6013\n",
              "missing              4749\n",
              "other                2240\n",
              "bulk                 2133\n",
              "Name: department, dtype: int64"
            ]
          },
          "metadata": {},
          "execution_count": 163
        }
      ]
    },
    {
      "cell_type": "code",
      "source": [
        "df['department'] = df['department'].fillna('produce')"
      ],
      "metadata": {
        "id": "byHeQVDrgGU8"
      },
      "execution_count": 164,
      "outputs": []
    },
    {
      "cell_type": "code",
      "source": [
        "df['product_name'].value_counts()"
      ],
      "metadata": {
        "colab": {
          "base_uri": "https://localhost:8080/"
        },
        "id": "mceEDRYjgCYg",
        "outputId": "e2421907-f006-467d-e90c-4d9818c38ade"
      },
      "execution_count": 165,
      "outputs": [
        {
          "output_type": "execute_result",
          "data": {
            "text/plain": [
              "fresh fruits                  226039\n",
              "fresh vegetables              212611\n",
              "packaged vegetables fruits    109596\n",
              "yogurt                         90751\n",
              "packaged cheese                61502\n",
              "                               ...  \n",
              "kitchen supplies                 561\n",
              "baby bath body care              515\n",
              "baby accessories                 504\n",
              "beauty                           387\n",
              "frozen juice                     279\n",
              "Name: product_name, Length: 134, dtype: int64"
            ]
          },
          "metadata": {},
          "execution_count": 165
        }
      ]
    },
    {
      "cell_type": "code",
      "source": [
        "df['product_name'] = df['product_name'].fillna('fresh fruits')"
      ],
      "metadata": {
        "id": "LIu5YsE2gNUe"
      },
      "execution_count": 166,
      "outputs": []
    },
    {
      "cell_type": "code",
      "source": [
        "df.info()"
      ],
      "metadata": {
        "colab": {
          "base_uri": "https://localhost:8080/"
        },
        "id": "uBf6pfLMgSWA",
        "outputId": "366157b7-6af3-423a-fca2-b23671c8fe4b"
      },
      "execution_count": 167,
      "outputs": [
        {
          "output_type": "stream",
          "name": "stdout",
          "text": [
            "<class 'pandas.core.frame.DataFrame'>\n",
            "RangeIndex: 2019501 entries, 0 to 2019500\n",
            "Data columns (total 12 columns):\n",
            " #   Column                  Dtype  \n",
            "---  ------                  -----  \n",
            " 0   order_id                int64  \n",
            " 1   user_id                 int64  \n",
            " 2   order_number            int64  \n",
            " 3   order_dow               int64  \n",
            " 4   order_hour_of_day       int64  \n",
            " 5   days_since_prior_order  float64\n",
            " 6   product_id              int64  \n",
            " 7   add_to_cart_order       int64  \n",
            " 8   reordered               int64  \n",
            " 9   department_id           int64  \n",
            " 10  department              object \n",
            " 11  product_name            object \n",
            "dtypes: float64(1), int64(9), object(2)\n",
            "memory usage: 184.9+ MB\n"
          ]
        }
      ]
    },
    {
      "cell_type": "code",
      "source": [
        "df = df.sample(n = 5000, random_state = 27)"
      ],
      "metadata": {
        "id": "fSwdRnoZfilv"
      },
      "execution_count": 168,
      "outputs": []
    },
    {
      "cell_type": "code",
      "source": [
        "df.shape"
      ],
      "metadata": {
        "colab": {
          "base_uri": "https://localhost:8080/"
        },
        "id": "rYVClRnyfmWw",
        "outputId": "87f05b3c-5b0d-48c0-d373-1e6e300970f8"
      },
      "execution_count": 169,
      "outputs": [
        {
          "output_type": "execute_result",
          "data": {
            "text/plain": [
              "(5000, 12)"
            ]
          },
          "metadata": {},
          "execution_count": 169
        }
      ]
    },
    {
      "cell_type": "markdown",
      "source": [
        "####Convert object to numeric with Label Encoding"
      ],
      "metadata": {
        "id": "Mm4URK9qutXG"
      }
    },
    {
      "cell_type": "code",
      "source": [
        "from sklearn.preprocessing import LabelEncoder\n",
        "\n",
        "label_encoder = LabelEncoder()\n",
        "df['department'] = label_encoder.fit_transform(df['department'])\n",
        "df['product_name'] = label_encoder.fit_transform(df['product_name'])"
      ],
      "metadata": {
        "id": "gFvb5oQ_hDkf"
      },
      "execution_count": 170,
      "outputs": []
    },
    {
      "cell_type": "code",
      "source": [
        "df.info()"
      ],
      "metadata": {
        "colab": {
          "base_uri": "https://localhost:8080/"
        },
        "id": "cj7iEW73hLeC",
        "outputId": "426c26eb-6339-4745-da88-58b68bd743ee"
      },
      "execution_count": 171,
      "outputs": [
        {
          "output_type": "stream",
          "name": "stdout",
          "text": [
            "<class 'pandas.core.frame.DataFrame'>\n",
            "Int64Index: 5000 entries, 1985967 to 1032890\n",
            "Data columns (total 12 columns):\n",
            " #   Column                  Non-Null Count  Dtype  \n",
            "---  ------                  --------------  -----  \n",
            " 0   order_id                5000 non-null   int64  \n",
            " 1   user_id                 5000 non-null   int64  \n",
            " 2   order_number            5000 non-null   int64  \n",
            " 3   order_dow               5000 non-null   int64  \n",
            " 4   order_hour_of_day       5000 non-null   int64  \n",
            " 5   days_since_prior_order  5000 non-null   float64\n",
            " 6   product_id              5000 non-null   int64  \n",
            " 7   add_to_cart_order       5000 non-null   int64  \n",
            " 8   reordered               5000 non-null   int64  \n",
            " 9   department_id           5000 non-null   int64  \n",
            " 10  department              5000 non-null   int64  \n",
            " 11  product_name            5000 non-null   int64  \n",
            "dtypes: float64(1), int64(11)\n",
            "memory usage: 507.8 KB\n"
          ]
        }
      ]
    },
    {
      "cell_type": "markdown",
      "source": [
        "####Convert all to int"
      ],
      "metadata": {
        "id": "UljSg_NDu_0u"
      }
    },
    {
      "cell_type": "code",
      "source": [
        "df['order_number'] = df['order_number'].astype(int)"
      ],
      "metadata": {
        "id": "L9qIMnHauqjy"
      },
      "execution_count": 172,
      "outputs": []
    },
    {
      "cell_type": "code",
      "source": [
        "df['order_dow'] = df['order_dow'].astype(int)"
      ],
      "metadata": {
        "id": "j1XdbC-Ju7uk"
      },
      "execution_count": 173,
      "outputs": []
    },
    {
      "cell_type": "code",
      "source": [
        "df['order_hour_of_day'] = df['order_hour_of_day'].astype(int)"
      ],
      "metadata": {
        "id": "RPGKXzlzvFjy"
      },
      "execution_count": 174,
      "outputs": []
    },
    {
      "cell_type": "code",
      "source": [
        "df['days_since_prior_order'] = df['days_since_prior_order'].astype(int)"
      ],
      "metadata": {
        "id": "-WeLjln8vZuZ"
      },
      "execution_count": 175,
      "outputs": []
    },
    {
      "cell_type": "code",
      "source": [
        "df['product_id'] = df['product_id'].astype(int)"
      ],
      "metadata": {
        "id": "78yOozXevfJ3"
      },
      "execution_count": 176,
      "outputs": []
    },
    {
      "cell_type": "code",
      "source": [
        "df['add_to_cart_order'] = df['add_to_cart_order'].astype(int)"
      ],
      "metadata": {
        "id": "3QT50fihvjrj"
      },
      "execution_count": 177,
      "outputs": []
    },
    {
      "cell_type": "code",
      "source": [
        "df['reordered'] = df['reordered'].astype(int)"
      ],
      "metadata": {
        "id": "ldUPYbbpvvEP"
      },
      "execution_count": 178,
      "outputs": []
    },
    {
      "cell_type": "code",
      "source": [
        "df['department_id'] = df['department_id'].astype(int)"
      ],
      "metadata": {
        "id": "PCMBDORlv0oY"
      },
      "execution_count": 179,
      "outputs": []
    },
    {
      "cell_type": "code",
      "source": [
        "df.info()"
      ],
      "metadata": {
        "colab": {
          "base_uri": "https://localhost:8080/"
        },
        "id": "Ad6XqVFGv4aN",
        "outputId": "6a896e54-bca1-46b6-9443-38c5cd00def9"
      },
      "execution_count": 180,
      "outputs": [
        {
          "output_type": "stream",
          "name": "stdout",
          "text": [
            "<class 'pandas.core.frame.DataFrame'>\n",
            "Int64Index: 5000 entries, 1985967 to 1032890\n",
            "Data columns (total 12 columns):\n",
            " #   Column                  Non-Null Count  Dtype\n",
            "---  ------                  --------------  -----\n",
            " 0   order_id                5000 non-null   int64\n",
            " 1   user_id                 5000 non-null   int64\n",
            " 2   order_number            5000 non-null   int64\n",
            " 3   order_dow               5000 non-null   int64\n",
            " 4   order_hour_of_day       5000 non-null   int64\n",
            " 5   days_since_prior_order  5000 non-null   int64\n",
            " 6   product_id              5000 non-null   int64\n",
            " 7   add_to_cart_order       5000 non-null   int64\n",
            " 8   reordered               5000 non-null   int64\n",
            " 9   department_id           5000 non-null   int64\n",
            " 10  department              5000 non-null   int64\n",
            " 11  product_name            5000 non-null   int64\n",
            "dtypes: int64(12)\n",
            "memory usage: 507.8 KB\n"
          ]
        }
      ]
    },
    {
      "cell_type": "markdown",
      "source": [
        "##Isolation Forest"
      ],
      "metadata": {
        "id": "8R1726JPkxEk"
      }
    },
    {
      "cell_type": "code",
      "source": [
        "numerical_features = df.select_dtypes(int).columns\n",
        "\n",
        "X_numerical = df[numerical_features]"
      ],
      "metadata": {
        "id": "AMpiIenehOSC"
      },
      "execution_count": 181,
      "outputs": []
    },
    {
      "cell_type": "markdown",
      "source": [
        "#### Splitting 70 30"
      ],
      "metadata": {
        "id": "DQN5c2Emm8Bo"
      }
    },
    {
      "cell_type": "code",
      "source": [
        "from sklearn.model_selection import train_test_split\n",
        "\n",
        "# Splitting the data into 70-30 training and testing sets\n",
        "X_train, X_test = train_test_split(X_numerical, test_size=0.3, random_state=37)"
      ],
      "metadata": {
        "id": "z9oRR9Qnk3kO"
      },
      "execution_count": 182,
      "outputs": []
    },
    {
      "cell_type": "code",
      "source": [
        "from sklearn.ensemble import IsolationForest\n",
        "\n",
        "model = IsolationForest(\n",
        "    n_estimators=100,\n",
        "    max_samples='auto',\n",
        "    contamination=float(0.2),\n",
        "    random_state=np.random.RandomState(37)\n",
        ")\n",
        "model.fit(X_train)\n",
        "\n",
        "# Printing the model parameters\n",
        "print(model.get_params())"
      ],
      "metadata": {
        "colab": {
          "base_uri": "https://localhost:8080/"
        },
        "id": "oV62_x0bk_aC",
        "outputId": "f14d3e3b-9c2b-4e64-d388-731ea62f9ba3"
      },
      "execution_count": 183,
      "outputs": [
        {
          "output_type": "stream",
          "name": "stdout",
          "text": [
            "{'bootstrap': False, 'contamination': 0.2, 'max_features': 1.0, 'max_samples': 'auto', 'n_estimators': 100, 'n_jobs': None, 'random_state': RandomState(MT19937) at 0x7B1169AD0A40, 'verbose': 0, 'warm_start': False}\n"
          ]
        },
        {
          "output_type": "stream",
          "name": "stderr",
          "text": [
            "/usr/local/lib/python3.10/dist-packages/sklearn/base.py:439: UserWarning: X does not have valid feature names, but IsolationForest was fitted with feature names\n",
            "  warnings.warn(\n"
          ]
        }
      ]
    },
    {
      "cell_type": "code",
      "source": [
        "df['anomaly_score'] = model.decision_function(X_numerical)  # Use X_numerical, not X_test\n",
        "\n",
        "# Predicting anomalies on the entire dataset (not just the test set)\n",
        "df['anomaly_label'] = model.predict(X_numerical)\n",
        "\n",
        "# Displaying rows with anomaly labels equal to -1 (indicating anomalies)\n",
        "anomalies = df[df['anomaly_label'] == -1].head()\n",
        "print(anomalies)"
      ],
      "metadata": {
        "colab": {
          "base_uri": "https://localhost:8080/"
        },
        "id": "bBiQRg_tlTCb",
        "outputId": "6815f852-e87e-4d0c-e7c7-9237c826c1e7"
      },
      "execution_count": 184,
      "outputs": [
        {
          "output_type": "stream",
          "name": "stdout",
          "text": [
            "         order_id  user_id  order_number  order_dow  order_hour_of_day  \\\n",
            "1153389   3229744   201268            95          3                 13   \n",
            "1676566   3407841    56022            42          6                 19   \n",
            "1268654   1951235   188407            59          1                 12   \n",
            "1265203    165903   193105             4          0                 13   \n",
            "203541    1859156     3845             2          2                 13   \n",
            "\n",
            "         days_since_prior_order  product_id  add_to_cart_order  reordered  \\\n",
            "1153389                       1          18                 26          1   \n",
            "1676566                       4         108                  3          0   \n",
            "1268654                       3          92                  4          1   \n",
            "1265203                      28          98                  8          1   \n",
            "203541                       30           9                 14          0   \n",
            "\n",
            "         department_id  department  product_name  anomaly_score  anomaly_label  \n",
            "1153389             10           5            12      -0.076135             -1  \n",
            "1676566             16           7            87      -0.013425             -1  \n",
            "1268654             18           1             4      -0.011987             -1  \n",
            "1265203              7           3            70      -0.013605             -1  \n",
            "203541               9           9            95      -0.015444             -1  \n"
          ]
        }
      ]
    },
    {
      "cell_type": "code",
      "source": [
        "from sklearn.model_selection import train_test_split\n",
        "from sklearn.ensemble import IsolationForest\n",
        "import numpy as np\n",
        "from sklearn.metrics import accuracy_score\n",
        "\n",
        "df['true_label'] = 1\n",
        "\n",
        "# Function to train Isolation Forest model, calculate accuracy, and print results\n",
        "def train_and_evaluate(X_train, X_numerical):\n",
        "    model = IsolationForest(\n",
        "        n_estimators=100,\n",
        "        max_samples='auto',\n",
        "        contamination=float(0.2),\n",
        "        random_state=np.random.RandomState(37)\n",
        "    )\n",
        "    model.fit(X_train)\n",
        "\n",
        "    # Predicting anomalies on the entire dataset\n",
        "    df['anomaly_score'] = model.decision_function(X_numerical)\n",
        "    df['anomaly_label'] = model.predict(X_numerical)\n",
        "\n",
        "    # Calculate accuracy\n",
        "    accuracy = accuracy_score(df['true_label'], df['anomaly_label'])\n",
        "\n",
        "    # Print the results\n",
        "    print(f\"Accuracy: {accuracy:.2f}\")"
      ],
      "metadata": {
        "id": "yXy4_xNcyinm"
      },
      "execution_count": 185,
      "outputs": []
    },
    {
      "cell_type": "code",
      "source": [
        "#Accuracy splitting with 70 30\n",
        "train_and_evaluate(X_train, X_numerical)"
      ],
      "metadata": {
        "colab": {
          "base_uri": "https://localhost:8080/"
        },
        "id": "J0xt1w2wynh8",
        "outputId": "81305949-dc0f-46e5-f28f-7f4905fdf1d4"
      },
      "execution_count": 186,
      "outputs": [
        {
          "output_type": "stream",
          "name": "stderr",
          "text": [
            "/usr/local/lib/python3.10/dist-packages/sklearn/base.py:439: UserWarning: X does not have valid feature names, but IsolationForest was fitted with feature names\n",
            "  warnings.warn(\n"
          ]
        },
        {
          "output_type": "stream",
          "name": "stdout",
          "text": [
            "Accuracy: 0.80\n"
          ]
        }
      ]
    },
    {
      "cell_type": "code",
      "source": [
        "# Calculate loss on training and validation sets\n",
        "train_loss = -model.score_samples(X_train)\n",
        "val_loss = -model.score_samples(X_test)\n",
        "\n",
        "# Plotting the loss curves\n",
        "epochs = range(1, 5)\n",
        "\n",
        "plt.plot(epochs, train_loss[:len(epochs)], label='Training Loss')\n",
        "plt.plot(epochs, val_loss[:len(epochs)], label='Validation Loss')\n",
        "\n",
        "plt.title('Training and Validation Loss (Split 70 30)')\n",
        "plt.xlabel('Epochs')\n",
        "plt.ylabel('Loss')\n",
        "plt.xticks(arange(0, 5, 1))\n",
        "plt.legend(loc='best')\n",
        "plt.show()"
      ],
      "metadata": {
        "colab": {
          "base_uri": "https://localhost:8080/",
          "height": 472
        },
        "id": "snN1Tj6GwbgF",
        "outputId": "99c1421c-96e9-4d95-8d14-a15ce3bd892b"
      },
      "execution_count": 202,
      "outputs": [
        {
          "output_type": "display_data",
          "data": {
            "text/plain": [
              "<Figure size 640x480 with 1 Axes>"
            ],
            "image/png": "[encoded data removed]"
          },
          "metadata": {}
        }
      ]
    },
    {
      "cell_type": "markdown",
      "source": [
        "Both training loss and validation loss are deacreasing and increasing at some point which indicates a good fit."
      ],
      "metadata": {
        "id": "W1YXg10O3NNx"
      }
    },
    {
      "cell_type": "markdown",
      "source": [
        "#### Splitting 60 40"
      ],
      "metadata": {
        "id": "Er5IcSufnAjD"
      }
    },
    {
      "cell_type": "code",
      "source": [
        "# Splitting the data into 60-40 training and testing sets\n",
        "X2_train, X2_test = train_test_split(X_numerical, test_size=0.4, random_state=37)"
      ],
      "metadata": {
        "id": "85f0kcYQnIdG"
      },
      "execution_count": 188,
      "outputs": []
    },
    {
      "cell_type": "code",
      "source": [
        "model2 = IsolationForest(\n",
        "    n_estimators=100,\n",
        "    max_samples='auto',\n",
        "    contamination=float(0.2),\n",
        "    random_state=np.random.RandomState(37)\n",
        ")\n",
        "model2.fit(X2_train)\n",
        "\n",
        "# Printing the model parameters\n",
        "print(model2.get_params())"
      ],
      "metadata": {
        "colab": {
          "base_uri": "https://localhost:8080/"
        },
        "id": "fw_3HjxsnOS7",
        "outputId": "d0fc6759-d5ea-4453-c913-38f4b318b6f2"
      },
      "execution_count": 189,
      "outputs": [
        {
          "output_type": "stream",
          "name": "stdout",
          "text": [
            "{'bootstrap': False, 'contamination': 0.2, 'max_features': 1.0, 'max_samples': 'auto', 'n_estimators': 100, 'n_jobs': None, 'random_state': RandomState(MT19937) at 0x7B1169AD0640, 'verbose': 0, 'warm_start': False}\n"
          ]
        },
        {
          "output_type": "stream",
          "name": "stderr",
          "text": [
            "/usr/local/lib/python3.10/dist-packages/sklearn/base.py:439: UserWarning: X does not have valid feature names, but IsolationForest was fitted with feature names\n",
            "  warnings.warn(\n"
          ]
        }
      ]
    },
    {
      "cell_type": "code",
      "source": [
        "df['anomaly_score'] = model2.decision_function(X_numerical)  # Use X_numerical, not X_test\n",
        "\n",
        "# Predicting anomalies on the entire dataset (not just the test set)\n",
        "df['anomaly_label'] = model2.predict(X_numerical)\n",
        "\n",
        "# Displaying rows with anomaly labels equal to -1 (indicating anomalies)\n",
        "anomalies2 = df[df['anomaly_label'] == -1].head()\n",
        "print(anomalies2)"
      ],
      "metadata": {
        "colab": {
          "base_uri": "https://localhost:8080/"
        },
        "id": "jliV3UD_nVUG",
        "outputId": "1d53d263-2816-4f9a-dd25-7b3dd805039e"
      },
      "execution_count": 190,
      "outputs": [
        {
          "output_type": "stream",
          "name": "stdout",
          "text": [
            "         order_id  user_id  order_number  order_dow  order_hour_of_day  \\\n",
            "1985967   2144320    32594            61          1                 11   \n",
            "1153389   3229744   201268            95          3                 13   \n",
            "1676566   3407841    56022            42          6                 19   \n",
            "1268654   1951235   188407            59          1                 12   \n",
            "203541    1859156     3845             2          2                 13   \n",
            "\n",
            "         days_since_prior_order  product_id  add_to_cart_order  reordered  \\\n",
            "1985967                       5          61                  1          1   \n",
            "1153389                       1          18                 26          1   \n",
            "1676566                       4         108                  3          0   \n",
            "1268654                       3          92                  4          1   \n",
            "203541                       30           9                 14          0   \n",
            "\n",
            "         department_id  department  product_name  anomaly_score  \\\n",
            "1985967             19          20            29      -0.003205   \n",
            "1153389             10           5            12      -0.097733   \n",
            "1676566             16           7            87      -0.003110   \n",
            "1268654             18           1             4      -0.010705   \n",
            "203541               9           9            95      -0.008491   \n",
            "\n",
            "         anomaly_label  true_label  \n",
            "1985967             -1           1  \n",
            "1153389             -1           1  \n",
            "1676566             -1           1  \n",
            "1268654             -1           1  \n",
            "203541              -1           1  \n"
          ]
        }
      ]
    },
    {
      "cell_type": "code",
      "source": [
        "#Accuracy splitting with 60 40\n",
        "train_and_evaluate(X2_train, X_numerical)"
      ],
      "metadata": {
        "colab": {
          "base_uri": "https://localhost:8080/"
        },
        "id": "h4XqUmIxy5cU",
        "outputId": "d2a575f0-8126-4095-e0b6-58ae0547e021"
      },
      "execution_count": 191,
      "outputs": [
        {
          "output_type": "stream",
          "name": "stderr",
          "text": [
            "/usr/local/lib/python3.10/dist-packages/sklearn/base.py:439: UserWarning: X does not have valid feature names, but IsolationForest was fitted with feature names\n",
            "  warnings.warn(\n"
          ]
        },
        {
          "output_type": "stream",
          "name": "stdout",
          "text": [
            "Accuracy: 0.80\n"
          ]
        }
      ]
    },
    {
      "cell_type": "code",
      "source": [
        "# Calculate loss on training and validation sets\n",
        "train_loss = -model.score_samples(X2_train)\n",
        "val_loss = -model.score_samples(X2_test)\n",
        "\n",
        "# Plotting the loss curves\n",
        "epochs = range(1, 5)\n",
        "\n",
        "plt.plot(epochs, train_loss[:len(epochs)], label='Training Loss')\n",
        "plt.plot(epochs, val_loss[:len(epochs)], label='Validation Loss')\n",
        "\n",
        "plt.title('Training and Validation Loss (Split 60 40)')\n",
        "plt.xlabel('Epochs')\n",
        "plt.ylabel('Loss')\n",
        "plt.xticks(arange(0, 5, 1))\n",
        "plt.legend(loc='best')\n",
        "plt.show()"
      ],
      "metadata": {
        "colab": {
          "base_uri": "https://localhost:8080/",
          "height": 472
        },
        "id": "avDf_3BqyH3A",
        "outputId": "2cba118f-105d-45b5-d7ad-4c84747e501f"
      },
      "execution_count": 201,
      "outputs": [
        {
          "output_type": "display_data",
          "data": {
            "text/plain": [
              "<Figure size 640x480 with 1 Axes>"
            ],
            "image/png": "[encoded data removed]"
          },
          "metadata": {}
        }
      ]
    },
    {
      "cell_type": "markdown",
      "source": [
        "Validation loss is greater than training loss which indicates the model is overfitting."
      ],
      "metadata": {
        "id": "q8UUCoSR2-F-"
      }
    },
    {
      "cell_type": "markdown",
      "source": [
        "#### Splitting 80 20"
      ],
      "metadata": {
        "id": "ZulexZtanjPy"
      }
    },
    {
      "cell_type": "code",
      "source": [
        "# Splitting the data into 80-20 training and testing sets\n",
        "X3_train, X3_test = train_test_split(X_numerical, test_size=0.2, random_state=37)"
      ],
      "metadata": {
        "id": "KPY9L3Gqnnpg"
      },
      "execution_count": 193,
      "outputs": []
    },
    {
      "cell_type": "code",
      "source": [],
      "metadata": {
        "id": "jtBw3yhGnvx3"
      },
      "execution_count": 193,
      "outputs": []
    },
    {
      "cell_type": "code",
      "source": [
        "df['anomaly_score'] = model3.decision_function(X_numerical)  # Use X_numerical, not X_test\n",
        "\n",
        "# Predicting anomalies on the entire dataset (not just the test set)\n",
        "df['anomaly_label'] = model3.predict(X_numerical)\n",
        "\n",
        "# Displaying rows with anomaly labels equal to -1 (indicating anomalies)\n",
        "anomalies3 = df[df['anomaly_label'] == -1].head()\n",
        "print(anomalies3)"
      ],
      "metadata": {
        "colab": {
          "base_uri": "https://localhost:8080/"
        },
        "id": "Wc2B32C0nzUs",
        "outputId": "d814e141-b713-460b-86d4-f950fa2ef6c7"
      },
      "execution_count": 194,
      "outputs": [
        {
          "output_type": "stream",
          "name": "stdout",
          "text": [
            "         order_id  user_id  order_number  order_dow  order_hour_of_day  \\\n",
            "1985967   2144320    32594            61          1                 11   \n",
            "1153389   3229744   201268            95          3                 13   \n",
            "1268654   1951235   188407            59          1                 12   \n",
            "1265203    165903   193105             4          0                 13   \n",
            "203541    1859156     3845             2          2                 13   \n",
            "\n",
            "         days_since_prior_order  product_id  add_to_cart_order  reordered  \\\n",
            "1985967                       5          61                  1          1   \n",
            "1153389                       1          18                 26          1   \n",
            "1268654                       3          92                  4          1   \n",
            "1265203                      28          98                  8          1   \n",
            "203541                       30           9                 14          0   \n",
            "\n",
            "         department_id  department  product_name  anomaly_score  \\\n",
            "1985967             19          20            29      -0.015569   \n",
            "1153389             10           5            12      -0.072560   \n",
            "1268654             18           1             4      -0.018903   \n",
            "1265203              7           3            70      -0.007615   \n",
            "203541               9           9            95      -0.006359   \n",
            "\n",
            "         anomaly_label  true_label  \n",
            "1985967             -1           1  \n",
            "1153389             -1           1  \n",
            "1268654             -1           1  \n",
            "1265203             -1           1  \n",
            "203541              -1           1  \n"
          ]
        }
      ]
    },
    {
      "cell_type": "code",
      "source": [
        "#Accuracy splitting with 80 20\n",
        "train_and_evaluate(X3_train, X_numerical)"
      ],
      "metadata": {
        "colab": {
          "base_uri": "https://localhost:8080/"
        },
        "id": "oyviO5Fcy1WS",
        "outputId": "e3c9616f-6b17-4a82-e704-9f89af009d98"
      },
      "execution_count": 195,
      "outputs": [
        {
          "output_type": "stream",
          "name": "stderr",
          "text": [
            "/usr/local/lib/python3.10/dist-packages/sklearn/base.py:439: UserWarning: X does not have valid feature names, but IsolationForest was fitted with feature names\n",
            "  warnings.warn(\n"
          ]
        },
        {
          "output_type": "stream",
          "name": "stdout",
          "text": [
            "Accuracy: 0.80\n"
          ]
        }
      ]
    },
    {
      "cell_type": "code",
      "source": [
        "# Calculate loss on training and validation sets\n",
        "train_loss = -model.score_samples(X3_train)\n",
        "val_loss = -model.score_samples(X3_test)\n",
        "\n",
        "# Plotting the loss curves\n",
        "epochs = range(1, 5)\n",
        "\n",
        "plt.plot(epochs, train_loss[:len(epochs)], label='Training Loss')\n",
        "plt.plot(epochs, val_loss[:len(epochs)], label='Validation Loss')\n",
        "\n",
        "plt.title('Training and Validation Loss (Split 80 20)')\n",
        "plt.xlabel('Epochs')\n",
        "plt.ylabel('Loss')\n",
        "plt.xticks(arange(0, 5, 1))\n",
        "plt.legend(loc='best')\n",
        "plt.show()"
      ],
      "metadata": {
        "colab": {
          "base_uri": "https://localhost:8080/",
          "height": 472
        },
        "id": "xYMHXC4gyPD5",
        "outputId": "269e9673-40cb-4e78-8806-7a7a04bcb9be"
      },
      "execution_count": 200,
      "outputs": [
        {
          "output_type": "display_data",
          "data": {
            "text/plain": [
              "<Figure size 640x480 with 1 Axes>"
            ],
            "image/png": "[encoded data removed]"
          },
          "metadata": {}
        }
      ]
    },
    {
      "cell_type": "markdown",
      "source": [
        "Validation loss is greater than training loss which indicates the model is overfitting."
      ],
      "metadata": {
        "id": "fQBVN_QF204A"
      }
    },
    {
      "cell_type": "markdown",
      "source": [
        "All of three spliting way have 80% accuracy."
      ],
      "metadata": {
        "id": "CnvI2s4w3lMj"
      }
    },
    {
      "cell_type": "markdown",
      "source": [
        "Source:\n",
        "\n",
        "https://towardsdatascience.com/anomaly-detection-with-isolation-forest-visualization-23cd75c281e2\n",
        "\n",
        "https://www.analyticsvidhya.com/blog/2021/07/anomaly-detection-using-isolation-forest-a-complete-guide/\n",
        "\n",
        "https://towardsdatascience.com/how-to-perform-anomaly-detection-with-the-isolation-forest-algorithm-e8c8372520bc"
      ],
      "metadata": {
        "id": "2wLUmQbYy66u"
      }
    }
  ]
}